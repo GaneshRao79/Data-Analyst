{
 "cells": [
  {
   "cell_type": "markdown",
   "metadata": {
    "_cell_guid": "f511a1d5-8512-4b60-a6f1-2762ff4d55d5",
    "_uuid": "c2bca74f205744202ef7553693642df17873cce1"
   },
   "source": [
    "\n",
    "\n",
    "# Project: Investigate Kaggle's European Soccer Database\n",
    "\n",
    "## Table of Contents\n",
    "<ul>\n",
    "<li><a href=\"#intro\">Introduction</a></li>\n",
    "<li><a href=\"#wrangling_matches\">Data Wrangling: Matches</a></li>\n",
    "<li><a href=\"#eda_matches\">Exploratory Data Analysis: Matches</a></li>\n",
    "<li><a href=\"#wrangling_players\">Data Wrangling: Players</a></li>\n",
    "<li><a href=\"#eda_players\">Exploratory Data Analysis: Players</a></li>\n",
    "<li><a href=\"#conclusions\">Conclusions</a></li>\n",
    "</ul>"
   ]
  },
  {
   "cell_type": "markdown",
   "metadata": {
    "_cell_guid": "56ad889a-3993-4cb0-a097-8844c74317e2",
    "_uuid": "db7e58412dcdab2ce1aae6c6664d71decaa9733f"
   },
   "source": [
    "<a id='introduction'></a>\n",
    "## Introduction\n",
    "\n",
    "As a soccer fan and season pass holder for the Netherlands' best football club Ajax, it was not hard to choose between the datasets provided for this project. Picking the most interesting research questions, however, was much more difficult: with dozens of variables for matches, teams and individual players, there were literally hundreds of questions to answer. After much thought, I decided to extract two datasets from the SQLite database (the SQL statements that I used are described in the next cell):\n",
    "\n",
    "* Matches (league name, date, home team, away team and the goals scored for the respective teams)\n",
    "* Players (a combination of the tables 'player' and 'player_attributes')\n",
    "\n",
    "For these datasets, I will try to answer the following research questions:\n",
    "1. Is there an advantage for teams to playing in their own stadium (home advantage)?\n",
    "2. How did the Dutch football club Ajax perform over the years, compared to its main competitors PSV and Feyenoord?\n",
    "3. Are there more professional football players born in the first months of the year than in the last months of the year ([relative age effect](https://en.wikipedia.org/wiki/Relative_age_effect))?\n",
    "4. Are there player characteristics that correspond to higher overall rating in the EA Sports FIFA video game? "
   ]
  },
  {
   "cell_type": "markdown",
   "metadata": {
    "_cell_guid": "77317869-7db0-4881-ba13-464261807894",
    "_uuid": "a73a5a43df0751a1d810501228929298e1e34ed8"
   },
   "source": [
    "The European Soccer database was stored in a SQLite database. I used the software 'DB Browser for SQLite' and the following SQL statements to extract the datasets I needed:\n",
    "\n",
    "__Matches__\n",
    "\n",
    "```mysql\n",
    "SELECT l.name AS league_name, m.season, m.date, t1.team_long_name as home_team, t2.team_long_name AS away_team, m.home_team_goal, m.away_team_goal\n",
    "FROM Match m\n",
    "JOIN League l\n",
    "ON m.league_id = l.id\n",
    "INNER JOIN Team as t1\n",
    "ON m.home_team_api_id = t1.team_api_id\n",
    "INNER JOIN Team as t2\n",
    "ON m.away_team_api_id = t2.team_api_id;\n",
    "```\n",
    "\n",
    "__Players__\n",
    "``` mysql\n",
    "SELECT *\n",
    "FROM Player_Attributes pa\n",
    "JOIN Player p\n",
    "ON p.player_api_id = pa.player_api_id;\n",
    "```"
   ]
  },
  {
   "cell_type": "code",
   "execution_count": null,
   "metadata": {
    "_cell_guid": "b7f166ff-891c-4001-9fd4-cb9ae058989f",
    "_uuid": "0176e3a92a974e6c7cfd39be9f6e78958b97114e"
   },
   "outputs": [],
   "source": [
    "#Import statements for libraries needed for this project\n",
    "import pandas as pd\n",
    "import numpy as np\n",
    "import matplotlib.pyplot as plt\n",
    "from datetime import date\n",
    "import seaborn as sns\n",
    "import calendar\n",
    "% matplotlib inline"
   ]
  },
  {
   "cell_type": "code",
   "execution_count": null,
   "metadata": {
    "_cell_guid": "c3df3b9a-dd57-4bcc-8fff-065383cff1d6",
    "_uuid": "d406e1190a55c3701c345dc1cdb6eae45ddd5136"
   },
   "outputs": [],
   "source": [
    "#Set display options in order the inspect the data in the extensive datasets properly\n",
    "pd.set_option('display.height', 1000)\n",
    "pd.set_option('display.max_rows', 100)\n",
    "pd.set_option('display.max_columns', 100)\n",
    "pd.set_option('display.width', 1000)"
   ]
  },
  {
   "cell_type": "markdown",
   "metadata": {
    "_cell_guid": "73286c8f-15ad-4002-8aad-0c2027174869",
    "_uuid": "7cac4408b78e40b1fc35d3aa2541de5a0ea8f428"
   },
   "source": [
    "<a id='wrangling_matches'></a>\n",
    "## Data Wrangling: Matches"
   ]
  },
  {
   "cell_type": "code",
   "execution_count": null,
   "metadata": {
    "_cell_guid": "f1f27afa-7bde-4b4e-afef-7fd70bde88a9",
    "_uuid": "cbabc88595a37e61339b3d2374bd265ab603f4b7"
   },
   "outputs": [],
   "source": [
    "#Import dataset\n",
    "matches = pd.read_csv('european_soccer_matches.csv')"
   ]
  },
  {
   "cell_type": "markdown",
   "metadata": {
    "_cell_guid": "abf19405-1320-469f-a800-3a38f70e026b",
    "_uuid": "ff9099f229629159705449f7dee81274f1de6926"
   },
   "source": [
    "### Notes on data cleaning and wrangling: Matches\n",
    "\n",
    "* There were no duplicate rows in the Matches dataframe, so no action had to be taken. \n",
    "* In the 25979 rows in the dataframe, no null values were found. \n",
    "* The dates in column 'date' were strings when imported, I converted this column to datetime format\n",
    "* To be able to make statements about the presumed advantage for teams playing in their home stadium, I created a new column for net score column.\n",
    "* For the last research question about my favourite team Ajax, I created a filtered dataframe. I added a new column to this dataframe based on the net score in which the number of points for Ajax were calculated (in football, you will get 3 points for a win, 1 point for a draw and no points for a loss). I did the same for Ajax' competitors PSV and Feyenoord."
   ]
  },
  {
   "cell_type": "code",
   "execution_count": null,
   "metadata": {
    "_cell_guid": "c668370c-93b4-443c-9d41-9dbb3784f6fa",
    "_uuid": "de25734899b393934e10f4560a1aee8de0c3505c"
   },
   "outputs": [],
   "source": [
    "#Find number of duplicate rows\n",
    "sum(matches.duplicated())"
   ]
  },
  {
   "cell_type": "code",
   "execution_count": null,
   "metadata": {
    "_cell_guid": "dfd698c8-2e23-4e5b-9648-8f1dcb4dbd7d",
    "_uuid": "7a35824d238460df99659af248284fbaaf1aa9d9"
   },
   "outputs": [],
   "source": [
    "#Check if there are any null values in the dataframe\n",
    "matches.info()"
   ]
  },
  {
   "cell_type": "code",
   "execution_count": null,
   "metadata": {
    "_cell_guid": "697c4497-141c-4371-8c97-6d6133a1da0f",
    "_uuid": "61e0f17d8d2d00365315a9b20f74a3923be1f8ea"
   },
   "outputs": [],
   "source": [
    "#Column 'date' is currently a string, convert to datetime format\n",
    "matches['date'] = pd.to_datetime(matches['date'])"
   ]
  },
  {
   "cell_type": "code",
   "execution_count": null,
   "metadata": {
    "_cell_guid": "b8b7481a-2791-4ffb-8f5c-c4e7768271d4",
    "_uuid": "c4537ff8db334658fef2b0a7582bd2f9e40fdc0a"
   },
   "outputs": [],
   "source": [
    "#Create new column with day of week\n",
    "matches['day_of_week'] = matches['date'].dt.weekday_name"
   ]
  },
  {
   "cell_type": "code",
   "execution_count": null,
   "metadata": {
    "_cell_guid": "e1d2a0e5-f91c-45b9-a7bb-100d2077c433",
    "_uuid": "69869423db2d2388279944624ec914a609f8f511"
   },
   "outputs": [],
   "source": [
    "#Calculate the net score for each game. This new column will be used to determine if it is a home or away win (or draw)\n",
    "net_score = matches['home_team_goal'] - matches['away_team_goal']\n",
    "matches['net_score'] = net_score"
   ]
  },
  {
   "cell_type": "code",
   "execution_count": null,
   "metadata": {
    "_cell_guid": "b0edb1a0-2c9d-4552-a031-3598b1637037",
    "_uuid": "62409c03ed7c8b82a2e1db1e4b2482b304d7b83d"
   },
   "outputs": [],
   "source": [
    "#Create separate dataframe with Ajax matches only and do the same for the main competitors PSV and Feyenoord\n",
    "ajax = matches[(matches.home_team == 'Ajax') | (matches.away_team == 'Ajax')]\n",
    "ajax = ajax.drop(columns=['league_name'])\n",
    "psv = matches[(matches.home_team == 'PSV') | (matches.away_team == 'PSV')]\n",
    "psv = psv.drop(columns=['league_name'])\n",
    "feyenoord = matches[(matches.home_team == 'Feyenoord') | (matches.away_team == 'Feyenoord')]\n",
    "feyenoord = feyenoord.drop(columns=['league_name'])"
   ]
  },
  {
   "cell_type": "code",
   "execution_count": null,
   "metadata": {
    "_cell_guid": "11c426ec-26a9-498e-aa4c-ec98a143457e",
    "_uuid": "df15dc402036879f8f6d7f21d1c21baea97eb58b"
   },
   "outputs": [],
   "source": [
    "#Write function to calculate the number of points for the team that is being investigated. In football, 3 points\n",
    "#are awarded for a win, 1 point for a draw and 0 points for a loss. \n",
    "def points(row, team):\n",
    "    if (row['net_score'] > 0) and (row['home_team'] == team):\n",
    "        return 3\n",
    "    elif (row['net_score'] < 0) and (row['away_team'] == team):\n",
    "        return 3\n",
    "    elif (row['net_score'] > 0) and (row['away_team'] == team):\n",
    "        return 0\n",
    "    elif (row['net_score'] < 0) and (row['home_team'] == team):\n",
    "        return 0\n",
    "    else:\n",
    "        return 1"
   ]
  },
  {
   "cell_type": "code",
   "execution_count": null,
   "metadata": {
    "_cell_guid": "a8b4a93a-6c97-4102-b108-1e174e074bcf",
    "_uuid": "27897ef77ff522a5a4c951fbe97caad86378a038"
   },
   "outputs": [],
   "source": [
    "#Create new column in the team dataframes that contains the number of points earned per match\n",
    "ajax['points_ajax'] = ajax.apply(lambda row: points(row, 'Ajax'), axis=1)\n",
    "psv['points_psv'] = psv.apply(lambda row: points(row, 'PSV'), axis=1)\n",
    "feyenoord['points_feyenoord'] = feyenoord.apply(lambda row: points(row, 'Feyenoord'), axis=1)"
   ]
  },
  {
   "cell_type": "code",
   "execution_count": null,
   "metadata": {
    "_cell_guid": "67249333-ec1d-4475-b594-e76d93b7b0b2",
    "_uuid": "6c54a8d699cbe8b83d058e05e28983d4c81859d4"
   },
   "outputs": [],
   "source": [
    "#Write function to calculate the number of goals for the team that is being investigated.\n",
    "def goals(row, team):\n",
    "    if row['home_team'] == team:\n",
    "        return row['home_team_goal']\n",
    "    else:\n",
    "        return row['away_team_goal']"
   ]
  },
  {
   "cell_type": "code",
   "execution_count": null,
   "metadata": {
    "_cell_guid": "a52d059d-bf1a-49af-881c-2800f80d38d3",
    "_uuid": "6a02f9ac5ccb9ea80927c298030601172cbd55e8"
   },
   "outputs": [],
   "source": [
    "#Create new column in the team dataframes that contains the number of goals scored per match\n",
    "ajax['goals_ajax'] = ajax.apply(lambda row: goals(row, 'Ajax'), axis=1)\n",
    "psv['goals_psv'] = psv.apply(lambda row: goals(row, 'PSV'), axis=1)\n",
    "feyenoord['goals_feyenoord'] = feyenoord.apply(lambda row: goals(row, 'Feyenoord'), axis=1)"
   ]
  },
  {
   "cell_type": "markdown",
   "metadata": {
    "_cell_guid": "f0903614-25d9-4c28-82ff-d1f1a5434dc3",
    "_uuid": "f728c0276c8ee9e0f5077d55504afa1c267c79f9"
   },
   "source": [
    "<a id='eda_matches'></a>\n",
    "## Exploratory Data Analysis: Matches\n",
    "\n",
    "\n",
    "### Research Question 1: Is there an advantage for teams to playing in their own stadium?"
   ]
  },
  {
   "cell_type": "code",
   "execution_count": null,
   "metadata": {
    "_cell_guid": "f548f875-524e-41e8-aec8-9a2dbbdaf1e8",
    "_uuid": "707374b4c97bb8642e23335a63a43b1b963f5556",
    "scrolled": true
   },
   "outputs": [],
   "source": [
    "#Explore contents of dataframe for reference\n",
    "matches.head()"
   ]
  },
  {
   "cell_type": "code",
   "execution_count": null,
   "metadata": {
    "_cell_guid": "e7a0bd4a-e7a7-4295-9a37-e0adf6c385b5",
    "_uuid": "57d4abe336ae4f22af2977f42a7a009cdc50bff1"
   },
   "outputs": [],
   "source": [
    "#Descriptive statistics for the matches dataset\n",
    "matches.describe()"
   ]
  },
  {
   "cell_type": "markdown",
   "metadata": {
    "_cell_guid": "feb2cd4a-3305-42dc-b22f-17b6af2681d3",
    "_uuid": "98d64cf0e9fbc88816531e9dd00b04a63f829ef7"
   },
   "source": [
    "If a home advantage exists, one would expect the mean net score to be zero, which means that on average, the same number of goals are scored by the home team and the away team. The mean net score for this dataset, however, is 0.38. To see if this result is statistically significant, I ran a one sample t-test to compare the mean net score to the mean net score to be expected without home advantage (0).\n",
    "\n",
    "The formula for the one sample t-test is:\n",
    "  \n",
    "$t = \\frac{m-\\mu}{s/\\sqrt{n}}$\n",
    "\n",
    "Using the mean and the standard deviation for net_score from the table above:\n",
    "\n",
    "$t = \\frac{0.383656-0}{1.782403/\\sqrt{25979}} = 34.69$\n",
    "\n",
    "Looking up this value in a ([T-Distribution table](http://www.statisticshowto.com/tables/t-distribution-table/)) learns that the p-value for this score is lower than the lowest p-value in the table. By conventional criteria, this difference in net score is considered to be statistically significant, so we can say that there is indeed an advantage for teams playing in their home stadium.\n",
    "\n",
    "Although the phenomenon of home advantage is widely known in many sports, there is still much debate about the underlying reasons for it. Is it the cheering crowd, the familiarity of the stadium, the fact that players do not have to travel and sleep in their own bed, or even the [referee](https://www.researchgate.net/publication/259824788_Home_advantage_and_referee_bias_in_European_football) who may be biased?\n",
    "\n",
    "[One researcher](http://onlinelibrary.wiley.com/doi/10.1111/ecin.12465/full) even suggested that the home advantage for teams in the German Bundesliga dissapears when a match is played in the middle of the week. Indeed, the average net score is lower when playing matches on Tuesday, Wednesday or Thursday but the home advantage does not dissapear completely, at least not for matches for the German Bundesliga period 2008-2016."
   ]
  },
  {
   "cell_type": "code",
   "execution_count": null,
   "metadata": {
    "_cell_guid": "a767ab69-8d2e-45bf-a52e-ca919e0f41b0",
    "_uuid": "798102f9cb434629224ac53c97716c7a7944b6ed"
   },
   "outputs": [],
   "source": [
    "matches[(matches.league_name == 'Germany 1. Bundesliga') & ((matches.day_of_week == 'Tuesday') | (matches.day_of_week == 'Wednesday') | (matches.day_of_week == 'Thursday'))].mean()"
   ]
  },
  {
   "cell_type": "markdown",
   "metadata": {
    "_cell_guid": "9838607c-673d-46af-9525-5a6cb9aa5bd5",
    "_uuid": "162a043a1e72bba60268a5b03983da0bc57a1016"
   },
   "source": [
    "The extent to which the home advantage occurs varies between the leagues in the dataset. It would be plausible to expect that the home advantage is greater when the distances between home and away clubs are long. However, looking at the chart below, this seems not the case. Although the lowest mean net score is seen in the relative small country of Switzerland (which would fit the hypothesis), the highest mean net score is measured in Belgium, the smallest country in the dataset. "
   ]
  },
  {
   "cell_type": "code",
   "execution_count": null,
   "metadata": {
    "_cell_guid": "06807c6f-feba-4792-830b-bc5b451f1898",
    "_uuid": "ff14fc98075aa4291d59b36803279438f8693197"
   },
   "outputs": [],
   "source": [
    "#Create bar chart for the net score per league\n",
    "mean_net_score = matches.pivot_table(index='league_name', values='net_score', aggfunc=np.mean)\n",
    "ax = mean_net_score.sort_values(by='net_score', ascending=False).plot.barh(x=mean_net_score.index, y='net_score', figsize=(12, 7), legend=False, color='lightseagreen')\n",
    "ax.set_xlabel(\"Mean net score\")\n",
    "ax.set_ylabel(\"League name\")\n",
    "ax.grid(False)\n",
    "plt.title('Mean net score per league', fontsize=14)"
   ]
  },
  {
   "cell_type": "markdown",
   "metadata": {
    "_cell_guid": "f9274926-e4dc-4d04-b628-53566ed7286f",
    "_uuid": "fb5a78744f66e59f10710b6470099069781df77e"
   },
   "source": [
    "### Research Question 2: How did the Dutch football club Ajax perform over the years, compared to its main competitors PSV and Feyenoord?"
   ]
  },
  {
   "cell_type": "markdown",
   "metadata": {
    "_cell_guid": "2a86a460-4cb9-435a-8109-b9b8381ac609",
    "_uuid": "c3c84daa3bde88486599ae0bf413dfe85e4318bf"
   },
   "source": [
    "In the Netherlands, the highest football league Eredivisie is historically dominated by three clubs: Ajax from Amsterdam, PSV from Eindhoven and Feyenoord from Rotterdam. How did Ajax perform in terms of the number of points earned per season and the number of goals scored compared to its competitors?"
   ]
  },
  {
   "cell_type": "code",
   "execution_count": null,
   "metadata": {
    "_cell_guid": "0c7b5ef5-1b60-401d-acae-557f6f45f935",
    "_uuid": "2df428f6235b6495157f41b9d0981016cb58c07f"
   },
   "outputs": [],
   "source": [
    "#Create a combined dataframe of pivot tables, in order to compare the number of points earned per season\n",
    "points_a = ajax.pivot_table(index='season', values=['points_ajax'],aggfunc=np.sum) \n",
    "points_p = psv.pivot_table(index='season', values=['points_psv'],aggfunc=np.sum)\n",
    "points_f = feyenoord.pivot_table(index='season', values=['points_feyenoord'],aggfunc=np.sum) \n",
    "dfs = [points_a, points_p, points_f]\n",
    "combined_points = pd.concat(dfs, axis=1)"
   ]
  },
  {
   "cell_type": "code",
   "execution_count": null,
   "metadata": {
    "_cell_guid": "74ef4c80-f62f-408b-ad28-33fefde93e6b",
    "_uuid": "e8b7e9374abdcb5adcf2b52a8b1ce18fd116fbba"
   },
   "outputs": [],
   "source": [
    "#Create grouped bar chart for the total number of points per season, per team\n",
    "labels = ['Ajax', 'PSV', 'Feyenoord']\n",
    "ax = combined_points.plot(kind='bar',figsize=(15,5), rot=0, colormap='RdYlGn')\n",
    "ax.legend(labels)\n",
    "ax.grid(False)\n",
    "plt.xlabel('Season', fontsize=12)\n",
    "plt.ylabel('Points', fontsize=12)\n",
    "plt.title('Big Three: Points per season', fontsize=14)"
   ]
  },
  {
   "cell_type": "markdown",
   "metadata": {
    "_cell_guid": "6babc3f0-d4f8-48f9-a486-c43c2d5455c4",
    "_uuid": "0c5a060eb136cb7733740f67121d12a02b5f81f4"
   },
   "source": [
    "Over the the seasons between 2008 and 2016, Ajax was the overall winner with regard of the number of points earned, with PSV as runner up. However, in the first two seasons in the dataset there was a for the Dutch Eredivisie very special situation to have a champion that was not from the Big Three (see table below). The champion with the most points was PSV in season 2014/2015 (88 points), whereas Ajax only got 71 points and still won the league in 2013/2014. For Feyenoord, 2018-2016 were not the best years, with an all-time low in season 2010/2011 when the club ended up 10th place in the final rankings with only 44 points.\n",
    "\n",
    "\n",
    "| Season | Champion |\n",
    "|------|------|\n",
    "| 2008/2009 | AZ |\n",
    "| 2009/2010 | FC Twente|\n",
    "| 2010/2011 | Ajax |\n",
    "| 2011/2012 | Ajax |\n",
    "| 2012/2013 | Ajax |\n",
    "| 2013/2014 | Ajax |\n",
    "| 2014/2015 | PSV |\n",
    "| 2015/2016 | PSV|"
   ]
  },
  {
   "cell_type": "code",
   "execution_count": null,
   "metadata": {
    "_cell_guid": "d91fea3d-8660-4b0d-9edb-fe8f83d51aa3",
    "_uuid": "52def2e3fd34dd2ac1a4818f8b13fb7285b1fd0e"
   },
   "outputs": [],
   "source": [
    "#Create a combined dataframe of pivot tables, in order to compare the number of goals scored per season\n",
    "goals_a = ajax.pivot_table(index='season', values=['goals_ajax'],aggfunc=np.sum) \n",
    "goals_p = psv.pivot_table(index='season', values=['goals_psv'],aggfunc=np.sum)\n",
    "goals_f = feyenoord.pivot_table(index='season', values=['goals_feyenoord'],aggfunc=np.sum) \n",
    "dfs_g = [goals_a, goals_p, goals_f]\n",
    "combined_goals = pd.concat(dfs_g, axis=1)"
   ]
  },
  {
   "cell_type": "code",
   "execution_count": null,
   "metadata": {
    "_cell_guid": "a6b119e1-bbf9-4b52-9552-7943f2c81515",
    "_uuid": "09a5bf64399063dd4fb87b8cea12445bc3103835"
   },
   "outputs": [],
   "source": [
    "#Create grouped bar chart for the total number of goals per season, per team\n",
    "ax = combined_goals.plot(kind='bar',figsize=(15,5), rot=0, colormap='RdYlGn')\n",
    "ax.legend(labels, loc='upper left')\n",
    "ax.grid(False)\n",
    "plt.xlabel('Season', fontsize=12)\n",
    "plt.ylabel('Goals', fontsize=12)\n",
    "plt.title('Big Three: Goals per season', fontsize=14)"
   ]
  },
  {
   "cell_type": "markdown",
   "metadata": {
    "_cell_guid": "ae20fcc8-a250-4fc9-aca2-220f7566eaff",
    "_uuid": "01fd481a0017ea6d3355c8d067b0af358aaf7b3c"
   },
   "source": [
    "The chart shows that the club that scores the most goals is not the champion by definition. For three out of four seasons (2010/2011 to 2013/2014) in which Ajax became champion, another team (PSV twice, Feyenoord once) scored more goals. As a result, in the period covered by this dataset, Ajax is the club that became champion with the fewest goals (69, in season 2013/2014). True to their famous offensive playing style, Ajax is also responsible for the most goals in one season in this dataset: 106 goals in season 2009/2010 (the season in which the title was grabbed by AZ Alkmaar). "
   ]
  },
  {
   "cell_type": "markdown",
   "metadata": {
    "_cell_guid": "7ab8d2be-ac5f-4033-99a0-9f31ef857c67",
    "_uuid": "b6e0795d53f0085561edc114448ba8a1299bf5f4"
   },
   "source": [
    "<a id='wrangling_players'></a>\n",
    "## Data Wrangling: Players"
   ]
  },
  {
   "cell_type": "code",
   "execution_count": null,
   "metadata": {
    "_cell_guid": "3c97340a-25b3-45c6-aa68-c8d61c1b5c1b",
    "_uuid": "77faf7f7a82a075751a1a4a99ca05952711ea986"
   },
   "outputs": [],
   "source": [
    "#load player data\n",
    "players = pd.read_csv('player_names_attributes.csv', index_col='id')"
   ]
  },
  {
   "cell_type": "markdown",
   "metadata": {
    "_cell_guid": "c5cc1037-13c9-41fa-8ae1-c9d4d89b4cf6",
    "_uuid": "f5ec227167ce35b755906bb02c062fa37e00a649"
   },
   "source": [
    "### Notes on data cleaning and wrangling: Players\n",
    "\n",
    "* There was one duplicate row in the players dataframe, I decided to drop that one row.  \n",
    "* In the players dataset that originally contained more than 183.000 rows, there were 3230 rows that contained null values. Because I wanted to make statements about larger groups of players (as opposed to making sure that every individual player is present in the dataset) I decided to drop all rows with null values. \n",
    "* As weight is measured in kilograms in the Netherlands, I converted the column \"weight\" to kilograms instead of lbs.\n",
    "* I added a column 'BMI' (Body Mass Index) to have a little more information about the ratio between weight and height.\n",
    "* To be able to compare the ages of players, I first converted every row in the column 'birthday' to a datetime object and created a new column \"age\" from that. I borrowed the code for calculating the age at time of measurement [here](https://stackoverflow.com/questions/34279378/python-pandas-apply-function-with-two-arguments-to-columns) and [here](https://stackoverflow.com/questions/765797/python-timedelta-in-years)."
   ]
  },
  {
   "cell_type": "code",
   "execution_count": null,
   "metadata": {
    "_cell_guid": "48a15553-ad16-4929-bc9b-a024cfcce337",
    "_uuid": "a3380c717e926fe7d0bbab90fdd8d1cff8c28e4d"
   },
   "outputs": [],
   "source": [
    "#To make the dataframe a bit more manageable, columns that will not be used are dropped\n",
    "players = players.drop(columns=['player_fifa_api_id', 'player_api_id', 'id.1', 'player_api_id.1', 'player_fifa_api_id.1'])"
   ]
  },
  {
   "cell_type": "code",
   "execution_count": null,
   "metadata": {
    "_cell_guid": "1951333b-5248-40b6-a5c9-2af0d9391394",
    "_uuid": "e1b92befe1b9c0e402f5f47f48b44877e9fd7e25"
   },
   "outputs": [],
   "source": [
    "#Count number of duplicate rows and drop duplicates\n",
    "sum(players.duplicated())\n",
    "players.drop_duplicates(inplace=True)"
   ]
  },
  {
   "cell_type": "code",
   "execution_count": null,
   "metadata": {
    "_cell_guid": "7e90d059-e622-4f7f-a54b-6e3bab81fbfe",
    "_uuid": "54aff6cd3168f65051bc417dc509ee9d0f58a295"
   },
   "outputs": [],
   "source": [
    "#Check if there are any null values in the dataframe\n",
    "players.info()"
   ]
  },
  {
   "cell_type": "code",
   "execution_count": null,
   "metadata": {
    "_cell_guid": "fc9d6651-1864-481c-a6e0-a416fc637b24",
    "_uuid": "742a84823672696fff3dbf7c4f0a246adb3e8162"
   },
   "outputs": [],
   "source": [
    "#Find number of rows with missing values per column\n",
    "players.isnull().sum()\n",
    "#Drop rows with missing values\n",
    "players.dropna(axis=0, how='any', inplace=True)\n",
    "#Running players.info() again learns that every column now has the same number (180354) of non-null values."
   ]
  },
  {
   "cell_type": "code",
   "execution_count": null,
   "metadata": {
    "_cell_guid": "3b5dfd42-7769-4cbb-a622-25a32c5f3255",
    "_uuid": "796a4e67eba67bd742650a8c4054419714ea6f50"
   },
   "outputs": [],
   "source": [
    "#Create new column 'weight_kg' that contains the player's weight in kilograms\n",
    "weight_kg = players['weight'] * 0.45359237\n",
    "players['weight_kg'] = weight_kg"
   ]
  },
  {
   "cell_type": "code",
   "execution_count": null,
   "metadata": {
    "_cell_guid": "dd9fe0b8-61a6-4b59-9544-95f089017663",
    "_uuid": "bd7891b0b21c9293cfe38d846449b957ddf19f93"
   },
   "outputs": [],
   "source": [
    "#Calculate BMI with the following formula: weight in kilograms/height in meters squared\n",
    "bmi = players['weight_kg']/(players['height']/100)**2\n",
    "players['bmi'] = bmi"
   ]
  },
  {
   "cell_type": "code",
   "execution_count": null,
   "metadata": {
    "_cell_guid": "7e19e9df-0fa3-4d19-899d-81752f5cdce9",
    "_uuid": "4095dca17b4c03f387f63cf0392a30f32536297a"
   },
   "outputs": [],
   "source": [
    "#Function to calculate the age of the player on the rating date\n",
    "players['birthday'] = pd.to_datetime(players['birthday'])\n",
    "players['date'] = pd.to_datetime(players['date'])\n",
    "\n",
    "def num_years(start, end):\n",
    "    num_years = int((end - start).days / 365.25)\n",
    "    return num_years\n",
    "    \n",
    "players['age'] = players.apply(lambda x: num_years(x['birthday'], x['date']), axis=1)"
   ]
  },
  {
   "cell_type": "code",
   "execution_count": null,
   "metadata": {
    "_cell_guid": "3399b7f4-20ab-404d-a130-83b9140c967a",
    "_uuid": "83bb9d3f35e69002aabf065613f5a4df485b82b8"
   },
   "outputs": [],
   "source": [
    "players['age'].hist(bins=20)"
   ]
  },
  {
   "cell_type": "markdown",
   "metadata": {
    "_cell_guid": "91f337bb-77b0-4c8f-8cf9-fc2b432eddb6",
    "_uuid": "abad9bb97cc104f8ae1cd3848b4fe7d4401944ff"
   },
   "source": [
    "When checking the distribution for the newly created column 'age', apparently there are players younger than 15 or even 10 years at the time of ranking. As this is not possible for professional football players, I ran a query on the players younger than 15 (see cell below). It seems that there is a problem with one of the ranking dates (February 22, 2007). Therefore, when I want to investigate age later in this report, I will leave out the measurements of February 2007. I do not prefer to drop those rows because there are no problems with the rest of the data. "
   ]
  },
  {
   "cell_type": "code",
   "execution_count": null,
   "metadata": {
    "_cell_guid": "c758f761-2e81-4705-8e14-4271391ffb17",
    "_uuid": "d8303a5e91708276cfa81d3597c309d414639af3"
   },
   "outputs": [],
   "source": [
    "players.query('age < 15')"
   ]
  },
  {
   "cell_type": "code",
   "execution_count": null,
   "metadata": {
    "_cell_guid": "fe08fc65-6f2e-4639-aa6f-3a1a4f9aff83",
    "_uuid": "308fadc342164d416865fae71a34b5db55582142"
   },
   "outputs": [],
   "source": [
    "#Create new column with birth month (research question 3)\n",
    "players['birth_month'] = players['birthday'].dt.month"
   ]
  },
  {
   "cell_type": "code",
   "execution_count": null,
   "metadata": {
    "_cell_guid": "e36189aa-c013-42d5-b536-25203a7d7b10",
    "_uuid": "be91114c5bba85b4c806b5ecc5e5df61bbb96f92"
   },
   "outputs": [],
   "source": [
    "#Create dataframe with unique players to count every birthday just once\n",
    "unique_players = players.drop_duplicates(['player_name'])\n",
    "unique_players['birth_month'] = unique_players['birth_month'].apply(lambda x: calendar.month_abbr[x])"
   ]
  },
  {
   "cell_type": "markdown",
   "metadata": {
    "_cell_guid": "114db1e1-d052-4f3e-aa6c-33d381121a53",
    "_uuid": "632529f84c35df317a0bba856619185bc330cba4"
   },
   "source": [
    "<a id='eda_players'></a>\n",
    "## Exploratory Data Analysis: Players\n",
    "\n",
    "\n",
    "### Research Question 3:  Are there more professional football players born in the first months of the year than in the last months of the year? "
   ]
  },
  {
   "cell_type": "code",
   "execution_count": null,
   "metadata": {
    "_cell_guid": "f3f09460-8879-452b-a003-aeb38b42c95c",
    "_uuid": "0aaf3ea41c1128918b5fbf083dc6b94bffb7f91b"
   },
   "outputs": [],
   "source": [
    "#Create barplot with the proportion of players born in a specific month\n",
    "counts = unique_players['birth_month'].value_counts(normalize=True)\n",
    "months = [\"Jan\", \"Feb\", \"Mar\", \"Apr\", \"May\", \"Jun\", \"Jul\", \"Aug\", \"Sep\",\"Oct\", \"Nov\", \"Dec\"]\n",
    "mean = 1/12\n",
    "\n",
    "sns.set_style(\"whitegrid\")\n",
    "fig, ax = plt.subplots(figsize=(10,5))\n",
    "sns.barplot(x=months, y=counts, palette='GnBu_d')\n",
    "plt.ylabel(\"Proportion of players\")\n",
    "plt.title('Birth month of professional football players')\n",
    "plt.axhline(mean, color='r', linestyle='--', label='mean')\n"
   ]
  },
  {
   "cell_type": "markdown",
   "metadata": {
    "_cell_guid": "8099bd48-68ee-4546-940e-cdf49c9495f5",
    "_uuid": "2859cc43ca682b90a3aea2ebd8dbce3af4cfcfd0"
   },
   "source": [
    "On Wikipedia, the relative age effect is defined as follows:\n",
    "\n",
    "> The term relative age effect (RAE) is used to describe a bias, evident in the upper echelons of youth sport and academia, where participation is higher amongst those born early in the relevant selection period (and correspondingly lower amongst those born late in the selection period) than would be expected from the normalised distribution of live births. \n",
    "\n",
    "In Europe, the selection year for football starts at January 1st. Therefore, if a relative age effect is present, an overrepresentation of birth months in the first quarter of the year is expected. Looking at the table above, this trend is indeed visible. Unfortunately, at this point during my study, I cannot determine whether this difference is significant or if this observed distribution is due to chance. Nevertheless, as many researchers have demonstrated the existence of the relative age effect both in sports and education, the trend in the chart above does seem to indicate that an age effect exists for the professional football players in the dataset. "
   ]
  },
  {
   "cell_type": "markdown",
   "metadata": {
    "_cell_guid": "22ff8eb7-bd0d-4c05-9903-52c214d4081e",
    "_uuid": "2cc24bbb531ef7e97b9e1e77b4fad59c77b64a26"
   },
   "source": [
    "\n",
    "### Research Question 4: Are there player characteristics that correspond to higher overall rating in the EA Sports FIFA video game?"
   ]
  },
  {
   "cell_type": "code",
   "execution_count": null,
   "metadata": {
    "_cell_guid": "62665b60-40f8-4f34-b5c3-522458596eac",
    "_uuid": "4f3d0d4f8aeead100a909734994396828d7d5473",
    "scrolled": false
   },
   "outputs": [],
   "source": [
    "players.describe()"
   ]
  },
  {
   "cell_type": "markdown",
   "metadata": {
    "_cell_guid": "dc8ca27f-c7c7-411e-83e7-7b9a2980acb9",
    "_uuid": "ad9c20b7c246f148fff1c13f0866da6ed80d6950"
   },
   "source": [
    "In general, you can quickly see that there is a lot of variation in the mean and standard deviation across the various FIFA attributes. But the dry numbers become much more interesting (at least to me) when you realize that behind every extreme value, there are names of real players. For example, the world of difference between the top player with overall ranking of 94 (FC Barcelona's Lionel Messi) and the one with the lowest ranking (the Italian player Francesco Della Rocco who, fortunately for him, was very young when his first ranking was set and later reached an overall rating of 68 (__[source](https://sofifa.com/player/178043)__). The best header (the rather unknown Nicola Zigic), the most agile player (again, Lionel Messi amongst others), the most aggressive player (not surprisingly: Gennaro Gattuso, amongst others) and the one who scores penalties best (Rickie Lambert)... it is tempting to connect all attributes to names. \n",
    "\n",
    "There is also a lot of variation in age, weight and height. For age, there is probably an error in the data because the minimum age is 7 in the dataset. I will deal with this problem before making statements about age.\n",
    "\n",
    "To conclude, the tallest player in the set is Kristof van Hout, a Belgian goalkeeper who measures 2.08 meters and is also the heaviest player. The smallest player is Juan Quero, a Spanish midfielder, who is -with his 53 kilograms- also the lightest player in the set. "
   ]
  },
  {
   "cell_type": "code",
   "execution_count": null,
   "metadata": {
    "_cell_guid": "f05cb172-10c1-449b-a2b2-15bef7a45bc1",
    "_uuid": "8a3c94dcebe72449c9e1dbe8b56ff0abeb16f943"
   },
   "outputs": [],
   "source": [
    "#Find names for extreme values from the descriptive statistics table\n",
    "players.query('overall_rating == 94')\n",
    "players.query('overall_rating == 33')\n",
    "players.query('heading_accuracy == 98')\n",
    "players.query('aggression == 97')\n",
    "players.query('penalties == 96')\n",
    "players.query('age == 43')\n",
    "players.query('height >= 208')\n",
    "players.query('height <= 158')\n",
    "players.query('weight_kg >= 110')\n",
    "players.query('weight_kg < 53.1')"
   ]
  },
  {
   "cell_type": "code",
   "execution_count": null,
   "metadata": {
    "_cell_guid": "d284772a-adea-44db-872a-35441db99ec3",
    "_uuid": "278a9189612e5b4402f548a3425dd72a8b50d488"
   },
   "outputs": [],
   "source": [
    "#Create scatterplot for overall rating and some FIFA variables: potential, reactions and dribbling\n",
    "fig = plt.figure(figsize=(18,5))\n",
    "ax1 = fig.add_subplot(1,3,1)\n",
    "ax1.scatter(players['potential'], players['overall_rating'])\n",
    "plt.xlabel('Potential')\n",
    "plt.ylabel('Overall Rating')\n",
    "ax2 = fig.add_subplot(1,3,2)\n",
    "ax2.scatter(players['reactions'], players['overall_rating'])\n",
    "plt.xlabel('Reactions')\n",
    "plt.title('Scatterplots for Overall Rating and Potential, Reactions and Dribbling', fontsize=14)\n",
    "ax3 = fig.add_subplot(1,3,3)\n",
    "ax3.scatter(players['dribbling'], players['overall_rating'])\n",
    "plt.xlabel('Dribbling')\n",
    "plt.ylabel('Overall rating')\n",
    "\n",
    "#Calculate Pearson correlation coefficient for overall rating and potential/reactions/dribbling\n",
    "print('Correlation between overall rating and potential, reactions and dribbling respectively:')\n",
    "print(players['potential'].corr(players['overall_rating']))\n",
    "print(players['reactions'].corr(players['overall_rating']))\n",
    "print(players['dribbling'].corr(players['overall_rating']))"
   ]
  },
  {
   "cell_type": "markdown",
   "metadata": {
    "_cell_guid": "1b803bcb-499b-4b46-ba6d-7eb3877c1464",
    "_uuid": "f573edd38022493089637a6d8c815c1ebea4ac50"
   },
   "source": [
    "To determine which player characteristics correspond to a higher overall FIFA rating, I first created scatterplots for every FIFA attribute and see if they are positively correlated (ie higher ratings on a specific attribute tend to go together with high overall ratings). To improve readability of this report, there are just three scatterplots in the cell above (the same code was used for every scatterplot).\n",
    "\n",
    "Although I expected a strong correlation between the overall rating and at least some of the more general player characteristics like strength or stamina, this is not always the case. In fact, only potential (which makes sense for high rated players) and reactions did show a very strong positive relationship with overall rating. \n",
    "\n",
    "*Overview of Pearson correlation coefficient between overall rating and:*\n",
    "* potential: 0.77\n",
    "* crossing: 0.36\n",
    "* finishing: 0.33\n",
    "* heading accuracy: 0.31\n",
    "* short_passing: 0.46\n",
    "* volleys: 0.36\n",
    "* dribbling: 0.35\n",
    "* curve: 0.36\n",
    "* free_kick_accuracy: 0.35\n",
    "* long_passing: 0.44\n",
    "* ball_control: 0.44\n",
    "* acceleration: 0.26\n",
    "* sprint_speed: 0.25\n",
    "* agility: 0.24\n",
    "* reactions: 0.77\n",
    "* balance: 0.16\n",
    "* shot_power: 0.43\n",
    "* jumping: 0.26\n",
    "* stamina: 0.33\n",
    "* strength: 0.32\n",
    "* long_shots: 0.39\n",
    "* aggression: 0.32\n",
    "* interceptions: 0.25\n",
    "* positioning: 0.37\n",
    "* vision: 0.43\n",
    "* penalties: 0.39\n",
    "* marking: 0.13\n",
    "* standing_tackle: 0.13\n",
    "* sliding_tackle: 0.13\n",
    "\n",
    "I added these results to a dictionary and used this dictionary to create a bar chart."
   ]
  },
  {
   "cell_type": "code",
   "execution_count": null,
   "metadata": {
    "_cell_guid": "ea31423e-5b4d-4f53-bea3-32bc931a7c2f",
    "_uuid": "1f7e9a068c53c8ac8d7a51af452a6cbe0d125dcf"
   },
   "outputs": [],
   "source": [
    "#Create bar chart for skills that show the highest correlation with overall rating\n",
    "skills = ['potential', 'reactions', 'short passing', 'long passing', 'ball control', 'shot power', 'vision', \n",
    "          'long shots', 'penalties', 'positioning', 'volleys', 'crossing', 'curve', 'dribbling', 'free kick accuracy', \n",
    "          'finishing', 'stamina', 'strength', 'aggression', 'heading accuracy', 'jumping', 'acceleration', \n",
    "          'sprint speed', 'interceptions', 'agility', 'balance', 'marking', 'standing tackle', 'sliding tackle']\n",
    "r =  [0.77, 0.77, 0.46, 0.44, 0.44, 0.43, 0.43, 0.39, 0.39, 0.37, 0.36, 0.36, 0.36, 0.35, 0.35, 0.33, 0.33, 0.32, 0.32, \n",
    "      0.31, 0.26, 0.26, 0.25, 0.25, 0.24, 0.16, 0.13, 0.13, 0.13]\n",
    "\n",
    "fig, ax = plt.subplots(figsize=(12,12))\n",
    "sns.set_style(\"dark\")\n",
    "sns.barplot(x=skills, y=r, palette='Blues_r')\n",
    "sns.despine(left=True, bottom=True)\n",
    "plt.xlabel('Skills', fontsize=14)\n",
    "plt.ylabel('Pearson correlaton coefficient', fontsize=14)\n",
    "plt.title('Correlation overall rating and field player skills', fontsize=14)\n",
    "ax.set_xticklabels(skills, rotation=75, fontsize=14)"
   ]
  },
  {
   "cell_type": "markdown",
   "metadata": {
    "_cell_guid": "498b8823-728e-4433-849a-a73fcbaa84d1",
    "_uuid": "11ddc03943a664c0c5c448940f4e7a5255a10f3b"
   },
   "source": [
    "The remaining characteristics are all specific for goalkeepers so I would like to correlate these characteristics only to the goalkeepers in the dataset. Unfortunately, there is no single identifier to separate the goalies from the field players. I would have expected the columns with the goalkeeper characteristics to be empty for the field players but unfortunately that is not the case. At sofifa.com, the site that contains all the player ratings for EA Sports game FIFA 18, it appears that field players do not have a rating higher than 40 for the GK reflexes attitude, which means that if we filter the player data on gk_reflexes we should only have goalkeepers. To be on the safe side, I chose 50 as a threshold for goalkeeping reflexes.\n",
    "\n",
    "Looking at the list of unique names in the goalkeepers dataset (see cell below), there are a lot of familiar (goalkeeper) names. Googling some random unknown names learns that can safely assume this indeed is a list of goalkeepers only."
   ]
  },
  {
   "cell_type": "code",
   "execution_count": null,
   "metadata": {
    "_cell_guid": "9f348b10-84f6-485b-a9bf-b5546e80879d",
    "_uuid": "38b9308e5e83545be74357f615749c65d53fb678"
   },
   "outputs": [],
   "source": [
    "gk = players[players['gk_reflexes'] >= 50]\n",
    "gk['player_name'].unique()"
   ]
  },
  {
   "cell_type": "markdown",
   "metadata": {
    "_cell_guid": "6241e612-7328-46a0-995d-f0d9eb45c53a",
    "_uuid": "5e0ae8a91a411255516e8b699881ef7f364c71f3"
   },
   "source": [
    "Next, we can see which goalkeeper characteristics correlate most strongly with the overall rating of the goalkeeper in the same way as the field players earlier. \n",
    "\n",
    "*Overview of Pearson correlation coefficient between overall rating and:*\n",
    "* Diving: 0.91\n",
    "* Handling: 0.89\n",
    "* Kicking: 0.70\n",
    "* Positioning: 0.90\n",
    "* Reflexes: 0.91\n",
    "\n",
    "As expected, all attributes that are specific to goalkeepers are strongly correlated with the overall rating of the goalkeeper. Only kicking skills seem to go together with high overall ratings a little less often, but there is still a strong positive relation with the overall rating. Because there were only a few characteristics that contributed to a higher overall rating for the field players, I decided not to analyze them all for the goalkeepers as well but try a different angle first.\n",
    "\n",
    "Next to looking into the attributes that go together with a higher overall rating, you can also create two groups: one with a high overall rating (top 25%) and one with a low rating (bottom 25%), and see if there are any differences between the two groups. I created an additional filter to leave out the goalkeepers, as the skill scores for goalkeepers and field players are too different. "
   ]
  },
  {
   "cell_type": "code",
   "execution_count": null,
   "metadata": {
    "_cell_guid": "9a4d4b3a-321b-45fe-8e03-9a8475bd50ca",
    "_uuid": "9d679f8214e014dc3f7593d190bddbfe174ab506"
   },
   "outputs": [],
   "source": [
    "#Create two subgroups from the players dataframe, based on the first and third quartile values for overall rating\n",
    "#Exclude goalkeepers\n",
    "top_players = players[(players['overall_rating'] > 73) & (players['gk_reflexes'] <= 40)]\n",
    "bottom_players = players[(players['overall_rating'] < 64) & (players['gk_reflexes'] <= 40)]"
   ]
  },
  {
   "cell_type": "code",
   "execution_count": null,
   "metadata": {
    "_cell_guid": "d33747a0-9be7-4e7a-a61b-9303a3f4936c",
    "_uuid": "aba6e30a670e282e7f1d50ed53f4fbf76a35a493"
   },
   "outputs": [],
   "source": [
    "#Descriptive statistics for the top players \n",
    "top_players.describe()"
   ]
  },
  {
   "cell_type": "code",
   "execution_count": null,
   "metadata": {
    "_cell_guid": "3593c4ae-eb89-4920-956b-21295395823b",
    "_uuid": "db654510536a5831f260af56a2c9846c94e62568"
   },
   "outputs": [],
   "source": [
    "#Descriptive statistics for the bottom players\n",
    "bottom_players.describe()"
   ]
  },
  {
   "cell_type": "markdown",
   "metadata": {
    "_cell_guid": "1d730a6a-4cd4-4e50-81df-889246ef55aa",
    "_uuid": "9190071c3e2d2fca02b28e55b86956f32cb66e73"
   },
   "source": [
    "Comparing the means of the numerical variables gives a good understanding of the skills you obviously need as a top player: the largest differences (>19 points in mean rating between top and bottom players) can be seen on the attributes long shots and shot power, followed by (>18 points difference in mean rating) ball control, reactions, positioning, vision, volleys and curve. \n",
    "\n",
    "To see the shape of the distributions, I created two visuals below: one for an attribute that is typical for top players (finishing) and one for which the mean rating for top players is almost the same as for bottom players (sliding tackle). \n",
    "\n",
    "The distribution for finishing is as I expected (bottom players to the left with lower rating, top players on the right), but the distribution of the sliding tackles appears to be bimodal for the top players. It is a good example of a situation where just comparing the mean can be deceptive because when looking at the median for both groups, the top players once again come out as winners when it comes to their sliding tackle skills. It is also interesting to realize that apparently, there are two pretty distinct groups: one group of top players who have poor sliding tackle skills (a plausible hypothesis would be that this group mainly consists of attackers) and one group of top players that have good sliding tackle skills. "
   ]
  },
  {
   "cell_type": "code",
   "execution_count": null,
   "metadata": {
    "_cell_guid": "67f8ad5f-3f12-4ed8-aa7f-92fcfc1b97c1",
    "_uuid": "452137a6dc047607bfb8279135fd6d969dcfc1f4"
   },
   "outputs": [],
   "source": [
    "#Create histogram for attribute \"finishing\" with kernel density estimation (KDE)\n",
    "labels = ['Top 25%', 'Bottom 25%']\n",
    "sns.set_style(\"white\")\n",
    "sns.distplot(top_players['finishing'], bins=20)\n",
    "sns.distplot(bottom_players['finishing'], bins=20)\n",
    "sns.despine(left=True)\n",
    "plt.legend(labels, loc = 'upper left')\n",
    "plt.xlabel('Finishing')\n",
    "plt.title('Distribution of rating for players on attribute \"Finishing\"', fontsize=14)"
   ]
  },
  {
   "cell_type": "code",
   "execution_count": null,
   "metadata": {
    "_cell_guid": "f2de3a7e-5314-41e9-b2b1-e744099add3a",
    "_uuid": "ae14e059e9ed5e6abcd9ca60d67607b023a60c0e"
   },
   "outputs": [],
   "source": [
    "#Create histogram for attribute \"sliding tackle\" with kernel density estimation (KDE)\n",
    "sns.set_style(\"white\")\n",
    "sns.distplot(top_players['sliding_tackle'], bins=20)\n",
    "sns.distplot(bottom_players['sliding_tackle'], bins=20)\n",
    "sns.despine(left=True)\n",
    "plt.legend(labels, loc = 'upper left')\n",
    "plt.xlabel('Sliding Tackle')\n",
    "plt.title('Distribution of rating for players on attribute \"Sliding Tackle\"', fontsize=14)"
   ]
  },
  {
   "cell_type": "code",
   "execution_count": null,
   "metadata": {
    "_cell_guid": "e59bc607-1f34-4ec8-a49d-5d0dc8d0df71",
    "_uuid": "32542fd17abb41f7850b5c841ad5360a2656dd99"
   },
   "outputs": [],
   "source": [
    "#Print median for attribute \"sliding tackle\" in two groups\n",
    "print(top_players['sliding_tackle'].median())\n",
    "print(bottom_players['sliding_tackle'].median())"
   ]
  },
  {
   "cell_type": "markdown",
   "metadata": {
    "_cell_guid": "863b6539-9cc8-4689-a053-50ae99643428",
    "_uuid": "d5f03f6c5db3394c58afeaeaef1ceeec39d0c8a8"
   },
   "source": [
    "Plotting the distribution of age of the top players and the bottom player (to be precise: the distribution of age at each moment a player is rated as top 25% or bottom 25%, which means that the same player can appear in this distribution more than once) learns that top players are -on average- older than the bottom players. This can be explained by the fact that it will take some years before you reach your top ranking, while the younger bottom players still have room to grow (even with the filter on low potential). "
   ]
  },
  {
   "cell_type": "code",
   "execution_count": null,
   "metadata": {
    "_cell_guid": "abf2014b-5f13-4234-a30e-dc145d00674b",
    "_uuid": "e5f1eef82e2a23bcdd9e790966142fc800949717"
   },
   "outputs": [],
   "source": [
    "#Create histogram for age with kernel density estimation (KDE)\n",
    "sns.set_style(\"white\")\n",
    "sns.distplot(top_players['age'], bins=20)\n",
    "sns.distplot(bottom_players['age'], bins=20)\n",
    "sns.despine(left=True)\n",
    "plt.legend(labels, loc = 'upper left')\n",
    "plt.xlabel('Age')\n",
    "plt.title('Distribution of rating for players on age', fontsize=14)"
   ]
  },
  {
   "cell_type": "markdown",
   "metadata": {
    "_cell_guid": "95262591-cc40-4fd0-a8f5-3d4bd890be87",
    "_uuid": "b97fb7ae7d81be121e86a5dbafe9e46618ce81b0"
   },
   "source": [
    "As said before, the same player can appear in the dataset multiple times. For the FIFA scores and age, this is not a problem, because they correspond to a certain moment in time (no player will be constant throughout his career). For height and weight, however, the data can be skewed if these constant values are included multiple times. Therefore I will filter the data for unique player names."
   ]
  },
  {
   "cell_type": "code",
   "execution_count": null,
   "metadata": {
    "_cell_guid": "f76b3b83-59e2-4441-bef0-93522af6e800",
    "_uuid": "2011bd368e637aaa90381d6bc9fad402a3d6b6e7"
   },
   "outputs": [],
   "source": [
    "#Filter data on unique field players, leave ranking date February 2007 (see earlier comment)\n",
    "filtered_all = players[(players['date'].dt.year > 2007)]\n",
    "unique_all = filtered_all.drop_duplicates(['player_name'])\n",
    "\n",
    "#Descriptive statistics for weight and height for field players\n",
    "unique_all[['height', 'weight_kg', 'bmi']].describe()"
   ]
  },
  {
   "cell_type": "code",
   "execution_count": null,
   "metadata": {
    "_cell_guid": "14c192d4-9409-40a4-bd89-a554c6d307b1",
    "_uuid": "33c70053625871109ebab2d955ece65f797710f2"
   },
   "outputs": [],
   "source": [
    "#Filter data on unique goalkeepers, leave ranking date February 2007 (see earlier comment)\n",
    "filtered_g = gk[(gk['date'].dt.year > 2007)]\n",
    "unique_gk = filtered_g.drop_duplicates(['player_name'])\n",
    "\n",
    "#Descriptive statistics for weight and height for goalkeepers\n",
    "unique_gk[['height', 'weight_kg', 'bmi']].describe()"
   ]
  },
  {
   "cell_type": "markdown",
   "metadata": {
    "_cell_guid": "6e01bf39-45bc-42c3-8045-d688fde2777c",
    "_uuid": "329efb2a5355162eb6a3b513b5eec7f76f42a132"
   },
   "source": [
    "It is clear to see that goalkeepers are taller and heavier than field players, on average. This comes as no suprise: at least in the Netherlands, talent scouts look for tall goalkeepers. My favourite football club Ajax even does a hand measurement for young goalkeepers to predict if they will reach a minimum height set by the club. "
   ]
  },
  {
   "cell_type": "code",
   "execution_count": null,
   "metadata": {
    "_cell_guid": "e7a3bf09-e77f-4dca-83c3-55e1b3d427bf",
    "_uuid": "d4eec56c33e40ba01d8dff490a1a563147110279"
   },
   "outputs": [],
   "source": [
    "#Create histogram for height with kernel density estimation (KDE), compare field players to goal keepers\n",
    "sns.set_style(\"white\")\n",
    "sns.distplot(unique_all['height'], bins=15, label='Field players')\n",
    "sns.distplot(unique_gk['height'], bins=15, label='Goalkeepers')\n",
    "plt.legend(loc='upper left')\n",
    "plt.xlabel('Height in centimeters')\n",
    "plt.title('Distribution of height: field players vs goalkeepers', fontsize=14)\n",
    "sns.despine(left=True)"
   ]
  },
  {
   "cell_type": "markdown",
   "metadata": {
    "_cell_guid": "80bd45dd-6457-4308-b2bf-10db31065e57",
    "_uuid": "dec7d1c0ce5a9c5a31e2005724800d6509c2c0a5"
   },
   "source": [
    "Let's see if there is also a difference in weight and height between top and bottom players. The tables below indeed show a small difference in weight and height for top players compared to bottom players: the top players are a little lighter and smaller than the bottom players, on average. Although I do not have the means at this point to see if this difference is significant, I suspect that (also taking the BMI into account) that there is no significant difference in weight and height for the top 25% players compared to the bottom 25% players. "
   ]
  },
  {
   "cell_type": "code",
   "execution_count": null,
   "metadata": {
    "_cell_guid": "d181e5fc-1ebd-4e63-b4f1-e1dccdfd740c",
    "_uuid": "4704de0a61a0b85bb012c4e59c9617f0547fca5b"
   },
   "outputs": [],
   "source": [
    "#Decriptive statistics for unique players in the top 25% player group\n",
    "filtered = top_players[(top_players['date'].dt.year > 2007)]\n",
    "unique_top = top_players.drop_duplicates(['player_name'])\n",
    "\n",
    "unique_top[['height', 'weight_kg', 'bmi']].describe()"
   ]
  },
  {
   "cell_type": "code",
   "execution_count": null,
   "metadata": {
    "_cell_guid": "07620887-39ab-4cfe-acf0-b7904a566a9c",
    "_uuid": "b8484ab02439e8c937d52203d9c51fe95efad7de"
   },
   "outputs": [],
   "source": [
    "#Decriptive statistics for unique players in the bottom 25% player group\n",
    "filtered_b = bottom_players[(bottom_players['date'].dt.year > 2007)]\n",
    "unique_bottom = filtered_b.drop_duplicates(['player_name'])\n",
    "\n",
    "unique_bottom[['height', 'weight_kg', 'bmi']].describe()"
   ]
  },
  {
   "cell_type": "markdown",
   "metadata": {
    "_cell_guid": "b3aa8422-576e-4cb0-83f7-e61959619c00",
    "_uuid": "ba4ae2377b935ce10377f0e71442d01b451de7bf"
   },
   "source": [
    "There is one interesting (categorical) variable left to which the two player groups can be compared: preferred foot. Is there a difference in footedness between top and bottom players? This is a pretty difficult question to answer because to start with, there are no conclusive statistics on the percentage of footedness for all people but as a reference, I used the 19% leftfootedness found on [Wikipedia](https://en.wikipedia.org/wiki/Laterality). Comparing this statistic to the statistics below, leftfootedness does seem to be more common among football players compared to the general population. Leftfootedness is seen a little more often among bottom players in this dataset.  \n",
    "\n",
    "At this moment in the course, I am not entirely sure which statistical method I can use to check if this difference is significant or not but I suspect it is a Chi square test. If I run a Chi square test online, I do find a significant difference in footedness between the whole population and both top and bottom players. This could be an indication that professional football players are more often leftfooted than people who do not play football (or, at least not on a professional level)."
   ]
  },
  {
   "cell_type": "code",
   "execution_count": null,
   "metadata": {
    "_cell_guid": "58ee220c-9909-4ccc-89d6-70431173fb1e",
    "_uuid": "9e465deb280714479d688ade3c87ba06be6210e2"
   },
   "outputs": [],
   "source": [
    "print(unique_top['preferred_foot'].value_counts(normalize=True))\n",
    "print(unique_bottom['preferred_foot'].value_counts(normalize=True))"
   ]
  },
  {
   "cell_type": "markdown",
   "metadata": {
    "_cell_guid": "b6f2c6a6-a64a-4970-80ae-24a60b02ce3e",
    "_uuid": "24ee752a9ee94dd1bb998d1c54bba57e4d904a3f"
   },
   "source": [
    "<a id='conclusions'></a>\n",
    "## Conclusions\n",
    "\n",
    "After trying many roads and angles within this extensive dataset, I singled out four research questions. Not every research question were answered to my full satisfaction. For example: I hoped to create a sharper image of the characteristics of top football players than I eventually found in the data. On the other hand, it was nice to see some research questions answered and visualized like I suspected beforehand, for example with the question about the relative birth effect. \n",
    "\n",
    "**A summary of my findings:**\n",
    "\n",
    "*Matches*\n",
    "* The much debated home advantage where football teams benefit from playing in their own stadium does seem to exist. There are differences between the various leagues, though. The cause of these differences is not clear. The hypothesis that the home advantage is larger in larger countries (with longer travel distances between clubs) is not backed up by the data. \n",
    "* Matching with my own observations between 2008 and 2016 ;-), the data did indeed show that Ajax was successful in terms of points earned and goals scored, compared to eternal rivals PSV and Feyenoord. However, Ajax did not entirely live up to its reputation of having an offensive playing style because the team did not score the most goals in the majority of the seasons in the dataset. \n",
    "\n",
    "*Players*\n",
    "* Looking at the months in which the professional football players in this dataset are born, it does seem that the relative age effect is present, because an overrepresentation of players born in the first months of the year can be observed. However, at this moment in time I do not have the tools to test if this overrepresentation is statistically significant or not.\n",
    "* There is a strong correlation between the overall FIFA rating of the player and his reactions, which means that high overall ratings often go together with good reactions. Furthermore, the top 25% players have a larger mean rating on long shots and shot power, followed by ball control, reactions, positioning, vision, volleys and curve (as compared to the bottom 25% players). An important thing to keep in mind though is that these characteristics are no hard numbers but subjective ratings created for a video game. An interesting article on how the ratings are calculated can be found [here](https://www.vg247.com/2016/09/27/how-ea-calculates-fifa-17-player-ratings/).\n",
    "* Goalkeepers are -on average- taller than field players. When comparing top to bottom players, there is also a small difference in weight and height: the top players are -on average- a little lighter and smaller than the bottom players. Although I do not have the means at this point to see if this difference is significant, I suspect that (also taking the BMI into account) that there is no significant difference in weight and height for the top 25% players compared to the bottom 25% players. \n"
   ]
  }
 ],
 "metadata": {
  "kernelspec": {
   "display_name": "Python 3",
   "language": "python",
   "name": "python3"
  },
  "language_info": {
   "codemirror_mode": {
    "name": "ipython",
    "version": 3
   },
   "file_extension": ".py",
   "mimetype": "text/x-python",
   "name": "python",
   "nbconvert_exporter": "python",
   "pygments_lexer": "ipython3",
   "version": "3.6.3"
  }
 },
 "nbformat": 4,
 "nbformat_minor": 1
}
